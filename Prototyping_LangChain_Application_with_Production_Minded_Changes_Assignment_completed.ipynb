{
  "cells": [
    {
      "cell_type": "code",
      "execution_count": null,
      "metadata": {},
      "outputs": [],
      "source": []
    },
    {
      "cell_type": "markdown",
      "metadata": {
        "id": "8ZsP-j7w3zcL"
      },
      "source": [
        "# Prototyping LangChain Application with Production Minded Changes\n",
        "\n",
        "For our first breakout room we'll be exploring how to set-up a LangChain LCEL chain in a way that takes advantage of all of the amazing out of the box production ready features it offers.\n",
        "\n",
        "We'll also explore `Caching` and what makes it an invaluable tool when transitioning to production environments.\n",
        "\n",
        "🤝 BREAKOUT ROOM #1:\n",
        "  - Task 1: Depends and Set-Up\n",
        "  - Task 2: Setting up RAG With Production in Mind\n",
        "  - Task 3: RAG LCEL Chain\n",
        "\n"
      ]
    },
    {
      "cell_type": "markdown",
      "metadata": {
        "id": "PpeN9ND0HKa0"
      },
      "source": [
        "## Task 1: Depends and Set-Up\n",
        "\n",
        "Let's get everything we need - we're going to use very specific versioning today to try to mitigate potential env. issues!\n",
        "\n",
        "> NOTE: Dependency issues are a large portion of what you're going to be tackling as you integrate new technology into your work - please keep in mind that one of the things you should be passively learning throughout this course is ways to mitigate dependency issues."
      ]
    },
    {
      "cell_type": "code",
      "execution_count": null,
      "metadata": {
        "colab": {
          "base_uri": "https://localhost:8080/"
        },
        "id": "0P4IJUQF27jW",
        "outputId": "a11047ee-b797-4ba5-bb83-db0a7b9ae8a5"
      },
      "outputs": [
        {
          "name": "stdout",
          "output_type": "stream",
          "text": [
            "\u001b[?25l   \u001b[90m━━━━━━━━━━━━━━━━━━━━━━━━━━━━━━━━━━━━━━━━\u001b[0m \u001b[32m0.0/51.5 kB\u001b[0m \u001b[31m?\u001b[0m eta \u001b[36m-:--:--\u001b[0m\r\u001b[2K   \u001b[90m━━━━━━━━━━━━━━━━━━━━━━━━━━━━━━━━━━━━━━━━\u001b[0m \u001b[32m51.5/51.5 kB\u001b[0m \u001b[31m3.4 MB/s\u001b[0m eta \u001b[36m0:00:00\u001b[0m\n",
            "\u001b[?25h\u001b[?25l   \u001b[90m━━━━━━━━━━━━━━━━━━━━━━━━━━━━━━━━━━━━━━━━\u001b[0m \u001b[32m0.0/2.3 MB\u001b[0m \u001b[31m?\u001b[0m eta \u001b[36m-:--:--\u001b[0m\r\u001b[2K   \u001b[91m━━━━━━━━━━━━━━━━━━━━━━━━━━━━━━━━━━━━━━━\u001b[0m\u001b[91m╸\u001b[0m \u001b[32m2.3/2.3 MB\u001b[0m \u001b[31m74.8 MB/s\u001b[0m eta \u001b[36m0:00:01\u001b[0m\r\u001b[2K   \u001b[90m━━━━━━━━━━━━━━━━━━━━━━━━━━━━━━━━━━━━━━━━\u001b[0m \u001b[32m2.3/2.3 MB\u001b[0m \u001b[31m46.2 MB/s\u001b[0m eta \u001b[36m0:00:00\u001b[0m\n",
            "\u001b[2K   \u001b[90m━━━━━━━━━━━━━━━━━━━━━━━━━━━━━━━━━━━━━━━━\u001b[0m \u001b[32m1.0/1.0 MB\u001b[0m \u001b[31m47.3 MB/s\u001b[0m eta \u001b[36m0:00:00\u001b[0m\n",
            "\u001b[2K   \u001b[90m━━━━━━━━━━━━━━━━━━━━━━━━━━━━━━━━━━━━━━━━\u001b[0m \u001b[32m3.5/3.5 MB\u001b[0m \u001b[31m64.1 MB/s\u001b[0m eta \u001b[36m0:00:00\u001b[0m\n",
            "\u001b[2K   \u001b[90m━━━━━━━━━━━━━━━━━━━━━━━━━━━━━━━━━━━━━━━━\u001b[0m \u001b[32m258.9/258.9 kB\u001b[0m \u001b[31m17.6 MB/s\u001b[0m eta \u001b[36m0:00:00\u001b[0m\n",
            "\u001b[2K   \u001b[90m━━━━━━━━━━━━━━━━━━━━━━━━━━━━━━━━━━━━━━━━\u001b[0m \u001b[32m289.9/289.9 kB\u001b[0m \u001b[31m22.2 MB/s\u001b[0m eta \u001b[36m0:00:00\u001b[0m\n",
            "\u001b[2K   \u001b[90m━━━━━━━━━━━━━━━━━━━━━━━━━━━━━━━━━━━━━━━━\u001b[0m \u001b[32m15.9/15.9 MB\u001b[0m \u001b[31m69.3 MB/s\u001b[0m eta \u001b[36m0:00:00\u001b[0m\n",
            "\u001b[2K   \u001b[90m━━━━━━━━━━━━━━━━━━━━━━━━━━━━━━━━━━━━━━━━\u001b[0m \u001b[32m2.5/2.5 MB\u001b[0m \u001b[31m62.8 MB/s\u001b[0m eta \u001b[36m0:00:00\u001b[0m\n",
            "\u001b[2K   \u001b[90m━━━━━━━━━━━━━━━━━━━━━━━━━━━━━━━━━━━━━━━━\u001b[0m \u001b[32m5.9/5.9 MB\u001b[0m \u001b[31m21.5 MB/s\u001b[0m eta \u001b[36m0:00:00\u001b[0m\n",
            "\u001b[2K   \u001b[90m━━━━━━━━━━━━━━━━━━━━━━━━━━━━━━━━━━━━━━━━\u001b[0m \u001b[32m399.7/399.7 kB\u001b[0m \u001b[31m24.4 MB/s\u001b[0m eta \u001b[36m0:00:00\u001b[0m\n",
            "\u001b[2K   \u001b[90m━━━━━━━━━━━━━━━━━━━━━━━━━━━━━━━━━━━━━━━━\u001b[0m \u001b[32m1.2/1.2 MB\u001b[0m \u001b[31m57.0 MB/s\u001b[0m eta \u001b[36m0:00:00\u001b[0m\n",
            "\u001b[2K   \u001b[90m━━━━━━━━━━━━━━━━━━━━━━━━━━━━━━━━━━━━━━━━\u001b[0m \u001b[32m50.9/50.9 kB\u001b[0m \u001b[31m4.4 MB/s\u001b[0m eta \u001b[36m0:00:00\u001b[0m\n",
            "\u001b[2K   \u001b[90m━━━━━━━━━━━━━━━━━━━━━━━━━━━━━━━━━━━━━━━━\u001b[0m \u001b[32m319.7/319.7 kB\u001b[0m \u001b[31m26.0 MB/s\u001b[0m eta \u001b[36m0:00:00\u001b[0m\n",
            "\u001b[?25h"
          ]
        }
      ],
      "source": [
        "!pip install -qU langchain_openai==0.2.0 langchain_community==0.3.0 langchain==0.3.0 pymupdf==1.24.10 qdrant-client==1.11.2 langchain_qdrant==0.1.4 langsmith==0.1.121"
      ]
    },
    {
      "cell_type": "markdown",
      "metadata": {
        "id": "qYcWLzrmHgDb"
      },
      "source": [
        "We'll need an OpenAI API Key:"
      ]
    },
    {
      "cell_type": "code",
      "execution_count": null,
      "metadata": {
        "colab": {
          "base_uri": "https://localhost:8080/"
        },
        "id": "GZ8qfrFh_6ed",
        "outputId": "623061ed-0bb1-402b-8616-36bd1da28a27"
      },
      "outputs": [
        {
          "name": "stdout",
          "output_type": "stream",
          "text": [
            "OpenAI API Key:··········\n"
          ]
        }
      ],
      "source": [
        "import os\n",
        "import getpass\n",
        "\n",
        "os.environ[\"OPENAI_API_KEY\"] = getpass.getpass(\"OpenAI API Key:\")"
      ]
    },
    {
      "cell_type": "markdown",
      "metadata": {
        "id": "piz2DUDuHiSO"
      },
      "source": [
        "And the LangSmith set-up:"
      ]
    },
    {
      "cell_type": "code",
      "execution_count": null,
      "metadata": {
        "colab": {
          "base_uri": "https://localhost:8080/"
        },
        "id": "wLZX5zowCh-q",
        "outputId": "574f3e10-4186-453b-fef6-336a0a2ba64d"
      },
      "outputs": [
        {
          "name": "stdout",
          "output_type": "stream",
          "text": [
            "LangChain API Key:··········\n"
          ]
        }
      ],
      "source": [
        "import uuid\n",
        "\n",
        "os.environ[\"LANGCHAIN_PROJECT\"] = f\"AIM Session 16 - {uuid.uuid4().hex[0:8]}\"\n",
        "os.environ[\"LANGCHAIN_TRACING_V2\"] = \"true\"\n",
        "os.environ[\"LANGCHAIN_API_KEY\"] = getpass.getpass(\"LangChain API Key:\")"
      ]
    },
    {
      "cell_type": "markdown",
      "metadata": {
        "id": "WmwNTziKHrQm"
      },
      "source": [
        "Let's verify our project so we can leverage it in LangSmith later."
      ]
    },
    {
      "cell_type": "code",
      "execution_count": null,
      "metadata": {
        "colab": {
          "base_uri": "https://localhost:8080/"
        },
        "id": "T6GZmkVkFcHq",
        "outputId": "432a5ade-7c5d-47c2-852b-274102f8de8c"
      },
      "outputs": [
        {
          "name": "stdout",
          "output_type": "stream",
          "text": [
            "AIM Session 16 - 2cd5b2fd\n"
          ]
        }
      ],
      "source": [
        "print(os.environ[\"LANGCHAIN_PROJECT\"])"
      ]
    },
    {
      "cell_type": "markdown",
      "metadata": {
        "id": "un_ppfaAHv1J"
      },
      "source": [
        "## Task 2: Setting up RAG With Production in Mind\n",
        "\n",
        "This is the most crucial step in the process - in order to take advantage of:\n",
        "\n",
        "- Asyncronous requests\n",
        "- Parallel Execution in Chains\n",
        "- And more...\n",
        "\n",
        "You must...use LCEL. These benefits are provided out of the box and largely optimized behind the scenes."
      ]
    },
    {
      "cell_type": "markdown",
      "metadata": {
        "id": "vGi-db23JMAL"
      },
      "source": [
        "### Building our RAG Components: Retriever\n",
        "\n",
        "We'll start by building some familiar components - and showcase how they automatically scale to production features."
      ]
    },
    {
      "cell_type": "markdown",
      "metadata": {
        "id": "zvbT3HSDJemE"
      },
      "source": [
        "Please upload a PDF file to use in this example!\n",
        "\n",
        "⚠ If you're running in a non-Chrome browser - you may run into issues with this cell. Please upload the file using Colab's file upload - and indicate the `file_path` in the cell with `file_path`. ⚠\n",
        "\n",
        "![image](https://i.imgur.com/Qa1Uwlj.png)\n",
        "\n",
        "\n",
        "\n",
        "> NOTE: You can skip this step if you are running locally - please just point to your local file."
      ]
    },
    {
      "cell_type": "code",
      "execution_count": null,
      "metadata": {
        "colab": {
          "base_uri": "https://localhost:8080/",
          "height": 73
        },
        "id": "dvYczNeY91Hn",
        "outputId": "d9a08d84-832d-415f-ac77-c5973a1958b2"
      },
      "outputs": [
        {
          "data": {
            "text/html": [
              "\n",
              "     <input type=\"file\" id=\"files-cccb2bce-5def-4933-815d-f934725b6a59\" name=\"files[]\" multiple disabled\n",
              "        style=\"border:none\" />\n",
              "     <output id=\"result-cccb2bce-5def-4933-815d-f934725b6a59\">\n",
              "      Upload widget is only available when the cell has been executed in the\n",
              "      current browser session. Please rerun this cell to enable.\n",
              "      </output>\n",
              "      <script>// Copyright 2017 Google LLC\n",
              "//\n",
              "// Licensed under the Apache License, Version 2.0 (the \"License\");\n",
              "// you may not use this file except in compliance with the License.\n",
              "// You may obtain a copy of the License at\n",
              "//\n",
              "//      http://www.apache.org/licenses/LICENSE-2.0\n",
              "//\n",
              "// Unless required by applicable law or agreed to in writing, software\n",
              "// distributed under the License is distributed on an \"AS IS\" BASIS,\n",
              "// WITHOUT WARRANTIES OR CONDITIONS OF ANY KIND, either express or implied.\n",
              "// See the License for the specific language governing permissions and\n",
              "// limitations under the License.\n",
              "\n",
              "/**\n",
              " * @fileoverview Helpers for google.colab Python module.\n",
              " */\n",
              "(function(scope) {\n",
              "function span(text, styleAttributes = {}) {\n",
              "  const element = document.createElement('span');\n",
              "  element.textContent = text;\n",
              "  for (const key of Object.keys(styleAttributes)) {\n",
              "    element.style[key] = styleAttributes[key];\n",
              "  }\n",
              "  return element;\n",
              "}\n",
              "\n",
              "// Max number of bytes which will be uploaded at a time.\n",
              "const MAX_PAYLOAD_SIZE = 100 * 1024;\n",
              "\n",
              "function _uploadFiles(inputId, outputId) {\n",
              "  const steps = uploadFilesStep(inputId, outputId);\n",
              "  const outputElement = document.getElementById(outputId);\n",
              "  // Cache steps on the outputElement to make it available for the next call\n",
              "  // to uploadFilesContinue from Python.\n",
              "  outputElement.steps = steps;\n",
              "\n",
              "  return _uploadFilesContinue(outputId);\n",
              "}\n",
              "\n",
              "// This is roughly an async generator (not supported in the browser yet),\n",
              "// where there are multiple asynchronous steps and the Python side is going\n",
              "// to poll for completion of each step.\n",
              "// This uses a Promise to block the python side on completion of each step,\n",
              "// then passes the result of the previous step as the input to the next step.\n",
              "function _uploadFilesContinue(outputId) {\n",
              "  const outputElement = document.getElementById(outputId);\n",
              "  const steps = outputElement.steps;\n",
              "\n",
              "  const next = steps.next(outputElement.lastPromiseValue);\n",
              "  return Promise.resolve(next.value.promise).then((value) => {\n",
              "    // Cache the last promise value to make it available to the next\n",
              "    // step of the generator.\n",
              "    outputElement.lastPromiseValue = value;\n",
              "    return next.value.response;\n",
              "  });\n",
              "}\n",
              "\n",
              "/**\n",
              " * Generator function which is called between each async step of the upload\n",
              " * process.\n",
              " * @param {string} inputId Element ID of the input file picker element.\n",
              " * @param {string} outputId Element ID of the output display.\n",
              " * @return {!Iterable<!Object>} Iterable of next steps.\n",
              " */\n",
              "function* uploadFilesStep(inputId, outputId) {\n",
              "  const inputElement = document.getElementById(inputId);\n",
              "  inputElement.disabled = false;\n",
              "\n",
              "  const outputElement = document.getElementById(outputId);\n",
              "  outputElement.innerHTML = '';\n",
              "\n",
              "  const pickedPromise = new Promise((resolve) => {\n",
              "    inputElement.addEventListener('change', (e) => {\n",
              "      resolve(e.target.files);\n",
              "    });\n",
              "  });\n",
              "\n",
              "  const cancel = document.createElement('button');\n",
              "  inputElement.parentElement.appendChild(cancel);\n",
              "  cancel.textContent = 'Cancel upload';\n",
              "  const cancelPromise = new Promise((resolve) => {\n",
              "    cancel.onclick = () => {\n",
              "      resolve(null);\n",
              "    };\n",
              "  });\n",
              "\n",
              "  // Wait for the user to pick the files.\n",
              "  const files = yield {\n",
              "    promise: Promise.race([pickedPromise, cancelPromise]),\n",
              "    response: {\n",
              "      action: 'starting',\n",
              "    }\n",
              "  };\n",
              "\n",
              "  cancel.remove();\n",
              "\n",
              "  // Disable the input element since further picks are not allowed.\n",
              "  inputElement.disabled = true;\n",
              "\n",
              "  if (!files) {\n",
              "    return {\n",
              "      response: {\n",
              "        action: 'complete',\n",
              "      }\n",
              "    };\n",
              "  }\n",
              "\n",
              "  for (const file of files) {\n",
              "    const li = document.createElement('li');\n",
              "    li.append(span(file.name, {fontWeight: 'bold'}));\n",
              "    li.append(span(\n",
              "        `(${file.type || 'n/a'}) - ${file.size} bytes, ` +\n",
              "        `last modified: ${\n",
              "            file.lastModifiedDate ? file.lastModifiedDate.toLocaleDateString() :\n",
              "                                    'n/a'} - `));\n",
              "    const percent = span('0% done');\n",
              "    li.appendChild(percent);\n",
              "\n",
              "    outputElement.appendChild(li);\n",
              "\n",
              "    const fileDataPromise = new Promise((resolve) => {\n",
              "      const reader = new FileReader();\n",
              "      reader.onload = (e) => {\n",
              "        resolve(e.target.result);\n",
              "      };\n",
              "      reader.readAsArrayBuffer(file);\n",
              "    });\n",
              "    // Wait for the data to be ready.\n",
              "    let fileData = yield {\n",
              "      promise: fileDataPromise,\n",
              "      response: {\n",
              "        action: 'continue',\n",
              "      }\n",
              "    };\n",
              "\n",
              "    // Use a chunked sending to avoid message size limits. See b/62115660.\n",
              "    let position = 0;\n",
              "    do {\n",
              "      const length = Math.min(fileData.byteLength - position, MAX_PAYLOAD_SIZE);\n",
              "      const chunk = new Uint8Array(fileData, position, length);\n",
              "      position += length;\n",
              "\n",
              "      const base64 = btoa(String.fromCharCode.apply(null, chunk));\n",
              "      yield {\n",
              "        response: {\n",
              "          action: 'append',\n",
              "          file: file.name,\n",
              "          data: base64,\n",
              "        },\n",
              "      };\n",
              "\n",
              "      let percentDone = fileData.byteLength === 0 ?\n",
              "          100 :\n",
              "          Math.round((position / fileData.byteLength) * 100);\n",
              "      percent.textContent = `${percentDone}% done`;\n",
              "\n",
              "    } while (position < fileData.byteLength);\n",
              "  }\n",
              "\n",
              "  // All done.\n",
              "  yield {\n",
              "    response: {\n",
              "      action: 'complete',\n",
              "    }\n",
              "  };\n",
              "}\n",
              "\n",
              "scope.google = scope.google || {};\n",
              "scope.google.colab = scope.google.colab || {};\n",
              "scope.google.colab._files = {\n",
              "  _uploadFiles,\n",
              "  _uploadFilesContinue,\n",
              "};\n",
              "})(self);\n",
              "</script> "
            ],
            "text/plain": [
              "<IPython.core.display.HTML object>"
            ]
          },
          "metadata": {},
          "output_type": "display_data"
        },
        {
          "name": "stdout",
          "output_type": "stream",
          "text": [
            "Saving financial_planner.pdf to financial_planner.pdf\n"
          ]
        }
      ],
      "source": [
        "from google.colab import files\n",
        "uploaded = files.upload()"
      ]
    },
    {
      "cell_type": "code",
      "execution_count": null,
      "metadata": {
        "colab": {
          "base_uri": "https://localhost:8080/",
          "height": 35
        },
        "id": "NtwoVUbaJlbW",
        "outputId": "9a2f1aba-4d85-41db-98c6-0a29f14cfed0"
      },
      "outputs": [
        {
          "data": {
            "application/vnd.google.colaboratory.intrinsic+json": {
              "type": "string"
            },
            "text/plain": [
              "'financial_planner.pdf'"
            ]
          },
          "execution_count": 6,
          "metadata": {},
          "output_type": "execute_result"
        }
      ],
      "source": [
        "file_path = list(uploaded.keys())[0]\n",
        "file_path"
      ]
    },
    {
      "cell_type": "markdown",
      "metadata": {
        "id": "kucGy3f0Jhdi"
      },
      "source": [
        "We'll define our chunking strategy."
      ]
    },
    {
      "cell_type": "code",
      "execution_count": null,
      "metadata": {
        "id": "G-DNvNFd8je5"
      },
      "outputs": [],
      "source": [
        "from langchain_text_splitters import RecursiveCharacterTextSplitter\n",
        "\n",
        "text_splitter = RecursiveCharacterTextSplitter(chunk_size=1000, chunk_overlap=100)"
      ]
    },
    {
      "cell_type": "markdown",
      "metadata": {
        "id": "3_zRRNcLKCZh"
      },
      "source": [
        "We'll chunk our uploaded PDF file."
      ]
    },
    {
      "cell_type": "code",
      "execution_count": null,
      "metadata": {
        "id": "KOh6w9ud-ff6"
      },
      "outputs": [],
      "source": [
        "from langchain_community.document_loaders import PyMuPDFLoader\n",
        "\n",
        "Loader = PyMuPDFLoader\n",
        "loader = Loader(file_path)\n",
        "documents = loader.load()\n",
        "docs = text_splitter.split_documents(documents)\n",
        "for i, doc in enumerate(docs):\n",
        "    doc.metadata[\"source\"] = f\"source_{i}\""
      ]
    },
    {
      "cell_type": "markdown",
      "metadata": {
        "id": "U4XLeqJMKGdQ"
      },
      "source": [
        "#### QDrant Vector Database - Cache Backed Embeddings\n",
        "\n",
        "The process of embedding is typically a very time consuming one - we must, for ever single vector in our VDB as well as query:\n",
        "\n",
        "1. Send the text to an API endpoint (self-hosted, OpenAI, etc)\n",
        "2. Wait for processing\n",
        "3. Receive response\n",
        "\n",
        "This process costs time, and money - and occurs *every single time a document gets converted into a vector representation*.\n",
        "\n",
        "Instead, what if we:\n",
        "\n",
        "1. Set up a cache that can hold our vectors and embeddings (similar to, or in some cases literally a vector database)\n",
        "2. Send the text to an API endpoint (self-hosted, OpenAI, etc)\n",
        "3. Check the cache to see if we've already converted this text before.\n",
        "  - If we have: Return the vector representation\n",
        "  - Else: Wait for processing and proceed\n",
        "4. Store the text that was converted alongside its vector representation in a cache of some kind.\n",
        "5. Return the vector representation\n",
        "\n",
        "Notice that we can shortcut some instances of \"Wait for processing and proceed\".\n",
        "\n",
        "Let's see how this is implemented in the code."
      ]
    },
    {
      "cell_type": "code",
      "execution_count": null,
      "metadata": {
        "id": "dzPUTCua98b2"
      },
      "outputs": [],
      "source": [
        "from qdrant_client import QdrantClient\n",
        "from qdrant_client.http.models import Distance, VectorParams\n",
        "from langchain_openai.embeddings import OpenAIEmbeddings\n",
        "from langchain.storage import LocalFileStore\n",
        "from langchain_qdrant import QdrantVectorStore\n",
        "from langchain.embeddings import CacheBackedEmbeddings\n",
        "\n",
        "# Typical Embedding Model\n",
        "core_embeddings = OpenAIEmbeddings(model=\"text-embedding-3-small\")\n",
        "\n",
        "# Typical QDrant Client Set-up\n",
        "collection_name = f\"pdf_to_parse_{uuid.uuid4()}\"\n",
        "client = QdrantClient(\":memory:\")\n",
        "client.create_collection(\n",
        "    collection_name=collection_name,\n",
        "    vectors_config=VectorParams(size=1536, distance=Distance.COSINE),\n",
        ")\n",
        "\n",
        "# Adding cache!\n",
        "store = LocalFileStore(\"./cache/\")\n",
        "cached_embedder = CacheBackedEmbeddings.from_bytes_store(\n",
        "    core_embeddings, store, namespace=core_embeddings.model\n",
        ")\n",
        "\n",
        "# Typical QDrant Vector Store Set-up\n",
        "vectorstore = QdrantVectorStore(\n",
        "    client=client,\n",
        "    collection_name=collection_name,\n",
        "    embedding=cached_embedder)\n",
        "vectorstore.add_documents(docs)\n",
        "retriever = vectorstore.as_retriever(search_type=\"mmr\", search_kwargs={\"k\": 3})"
      ]
    },
    {
      "cell_type": "markdown",
      "metadata": {
        "id": "QVZGvmNYLomp"
      },
      "source": [
        "##### ❓ Question #1:\n",
        "\n",
        "What are some limitations you can see with this approach? When is this most/least useful. Discuss with your group!\n",
        "\n",
        "> NOTE: There is no single correct answer here!\n",
        "\n",
        "##### ❓ ANSWER #1:\n",
        "> Hard to maintain if the data is too dynamic and changes often\n",
        "\n",
        "> Added step and latency because the data must be cached first\n",
        "\n",
        "> Added maintenance for a caching system"
      ]
    },
    {
      "cell_type": "markdown",
      "metadata": {
        "id": "vZAOhyb3L9iD"
      },
      "source": [
        "##### 🏗️ Activity #1:\n",
        "\n",
        "Create a simple experiment that tests the cache-backed embeddings."
      ]
    },
    {
      "cell_type": "code",
      "execution_count": null,
      "metadata": {
        "colab": {
          "base_uri": "https://localhost:8080/"
        },
        "id": "dGRv8W8z0L8e",
        "outputId": "09f23152-bdd1-4ea4-91a3-a6ee55b29247"
      },
      "outputs": [
        {
          "data": {
            "text/plain": [
              "[Document(metadata={'source': 'source_0', 'file_path': 'financial_planner.pdf', 'page': 0, 'total_pages': 3, 'format': 'PDF 1.7', 'title': '', 'author': 'Berenger Koffi TOSSOU', 'subject': '', 'keywords': '', 'creator': 'Microsoft® Word pour Microsoft\\xa0365', 'producer': 'Microsoft® Word pour Microsoft\\xa0365', 'creationDate': \"D:20250225213034+01'00'\", 'modDate': \"D:20250225213034+01'00'\", 'trapped': ''}, page_content='John Doe \\n  New York, NY |   (123) 456-7890 |   john.doe@email.com \\n \\n  Professional Summary \\nCertified Financial Planner (CFP) with over 7 years of experience in financial advisory, \\ninvestment strategies, and wealth management. Expert in assessing financial \\nsituations, creating tailored financial plans, and guiding clients toward long -term \\nfinancial stability. Strong knowledge in retirement planning, tax optimization, risk \\nmanagement, and portfolio diversification. Passionate about helping clients achieve \\nfinancial independence through strategic planning. \\n \\n  Skills \\n  Financial Planning & Wealth Management \\n  Investment Strategy & Portfolio Management \\n  Retirement & Tax Planning \\n  Risk Assessment & Insurance Advisory \\n  Estate Planning & Asset Allocation \\n  Budgeting & Debt Management \\n  Client Relationship Management \\n  Financial Regulatory Compliance \\n \\n  Work Experience \\nSenior Financial Planner | Wealth Advisory Group \\n  New York, NY |   Jan 2018 - Present \\n•'),\n",
              " Document(metadata={'source': 'source_1', 'file_path': 'financial_planner.pdf', 'page': 0, 'total_pages': 3, 'format': 'PDF 1.7', 'title': '', 'author': 'Berenger Koffi TOSSOU', 'subject': '', 'keywords': '', 'creator': 'Microsoft® Word pour Microsoft\\xa0365', 'producer': 'Microsoft® Word pour Microsoft\\xa0365', 'creationDate': \"D:20250225213034+01'00'\", 'modDate': \"D:20250225213034+01'00'\", 'trapped': ''}, page_content='Senior Financial Planner | Wealth Advisory Group \\n  New York, NY |   Jan 2018 - Present \\n• \\nDeveloped customized financial plans for over 200 clients, increasing their \\nasset growth by 20% on average. \\n• \\nProvided investment advice aligned with clients’ short-term and long-term \\nfinancial goals. \\n• \\nAssisted clients in retirement planning, tax optimization, and estate \\nmanagement.'),\n",
              " Document(metadata={'source': 'source_2', 'file_path': 'financial_planner.pdf', 'page': 1, 'total_pages': 3, 'format': 'PDF 1.7', 'title': '', 'author': 'Berenger Koffi TOSSOU', 'subject': '', 'keywords': '', 'creator': 'Microsoft® Word pour Microsoft\\xa0365', 'producer': 'Microsoft® Word pour Microsoft\\xa0365', 'creationDate': \"D:20250225213034+01'00'\", 'modDate': \"D:20250225213034+01'00'\", 'trapped': ''}, page_content='• \\nConducted risk assessment and advised on insurance and investment \\nproducts. \\n• \\nEnsured compliance with financial regulations and best industry practices. \\nFinancial Advisor | XYZ Wealth Management \\n  New York, NY |   May 2015 - Dec 2017 \\n• \\nAdvised high-net-worth individuals on investment opportunities, risk \\nmanagement, and financial planning. \\n• \\nDeveloped tailored strategies for wealth accumulation and preservation. \\n• \\nPerformed in-depth financial assessments and provided personalized portfolio \\nrecommendations. \\n• \\nEstablished strong client relationships, increasing client retention by 25%. \\n• \\nLed educational sessions on investment literacy and financial independence. \\n \\n  Education \\n  Bachelor’s Degree in Finance \\n  New York University |   Graduated: 2014 \\n \\n  Certifications \\n• \\nCertified Financial Planner (CFP) \\n• \\nChartered Financial Analyst (CFA) - Level 1 \\n• \\nSeries 7 & 66 Licenses (FINRA) \\n \\n  Additional Information \\n•'),\n",
              " Document(metadata={'source': 'source_3', 'file_path': 'financial_planner.pdf', 'page': 1, 'total_pages': 3, 'format': 'PDF 1.7', 'title': '', 'author': 'Berenger Koffi TOSSOU', 'subject': '', 'keywords': '', 'creator': 'Microsoft® Word pour Microsoft\\xa0365', 'producer': 'Microsoft® Word pour Microsoft\\xa0365', 'creationDate': \"D:20250225213034+01'00'\", 'modDate': \"D:20250225213034+01'00'\", 'trapped': ''}, page_content='• \\nSeries 7 & 66 Licenses (FINRA) \\n \\n  Additional Information \\n• \\nProficient in financial planning software (eMoney, MoneyGuidePro, and \\nMorningstar). \\n• \\nRegular speaker at financial literacy seminars and investment workshops. \\n• \\nPublished financial articles on tax-saving strategies, retirement planning, and \\nportfolio management.')]"
            ]
          },
          "execution_count": 10,
          "metadata": {},
          "output_type": "execute_result"
        }
      ],
      "source": [
        "docs"
      ]
    },
    {
      "cell_type": "markdown",
      "metadata": {
        "id": "G23UQ6rd2GrF"
      },
      "source": [
        "### Begin experimentation"
      ]
    },
    {
      "cell_type": "code",
      "execution_count": null,
      "metadata": {
        "id": "M_Mekif6MDqe"
      },
      "outputs": [],
      "source": [
        "import time\n",
        "# Function to measure embedding time\n",
        "def measure_embedding_time(vectorstore, documents):\n",
        "    start = time.time()\n",
        "    vectorstore.add_documents(documents)\n",
        "    end = time.time()\n",
        "    return end - start\n"
      ]
    },
    {
      "cell_type": "code",
      "execution_count": null,
      "metadata": {
        "id": "JgiY_EC70pC5"
      },
      "outputs": [],
      "source": [
        "with_cache = measure_embedding_time(vectorstore, docs)"
      ]
    },
    {
      "cell_type": "code",
      "execution_count": null,
      "metadata": {
        "colab": {
          "base_uri": "https://localhost:8080/"
        },
        "id": "PiqjvWE-04IT",
        "outputId": "5c19e1f4-80cd-4903-b495-91966ef8150e"
      },
      "outputs": [
        {
          "data": {
            "text/plain": [
              "0.006180286407470703"
            ]
          },
          "execution_count": 13,
          "metadata": {},
          "output_type": "execute_result"
        }
      ],
      "source": [
        "with_cache"
      ]
    },
    {
      "cell_type": "code",
      "execution_count": null,
      "metadata": {
        "id": "Dr2gn2j509EN"
      },
      "outputs": [],
      "source": [
        "# Collection without cache\n",
        "client.create_collection(\n",
        "    collection_name=\"no_cache\",\n",
        "    vectors_config=VectorParams(size=1536, distance=Distance.COSINE),\n",
        ")\n",
        "vectorstore_no_cache = QdrantVectorStore(\n",
        "    client=client,\n",
        "    collection_name=\"no_cache\",\n",
        "    embedding=core_embeddings)\n"
      ]
    },
    {
      "cell_type": "code",
      "execution_count": null,
      "metadata": {
        "id": "o9nTWziC09Qx"
      },
      "outputs": [],
      "source": [
        "without_cache = measure_embedding_time(vectorstore_no_cache, docs)"
      ]
    },
    {
      "cell_type": "code",
      "execution_count": null,
      "metadata": {
        "colab": {
          "base_uri": "https://localhost:8080/"
        },
        "id": "2ruO4Rxp1_oi",
        "outputId": "5017a953-14f8-4db2-d205-fb73a7d53c8d"
      },
      "outputs": [
        {
          "data": {
            "text/plain": [
              "0.6187169551849365"
            ]
          },
          "execution_count": 18,
          "metadata": {},
          "output_type": "execute_result"
        }
      ],
      "source": [
        "without_cache"
      ]
    },
    {
      "cell_type": "markdown",
      "metadata": {
        "id": "qtT0VBEz2Mwl"
      },
      "source": [
        "### End experimentation\n",
        "We can clearly see the cached version (`.006180286407470703` vs `0.6187169551849365`)  is more fast created (retrieved) with the same set of documents"
      ]
    },
    {
      "cell_type": "markdown",
      "metadata": {
        "id": "DH0i-YovL8kZ"
      },
      "source": [
        "### Augmentation\n",
        "\n",
        "We'll create the classic RAG Prompt and create our `ChatPromptTemplates` as per usual."
      ]
    },
    {
      "cell_type": "code",
      "execution_count": null,
      "metadata": {
        "id": "WchaoMEx9j69"
      },
      "outputs": [],
      "source": [
        "from langchain_core.prompts import ChatPromptTemplate\n",
        "\n",
        "rag_system_prompt_template = \"\"\"\\\n",
        "You are a helpful assistant that uses the provided context to answer questions. Never reference this prompt, or the existance of context.\n",
        "\"\"\"\n",
        "\n",
        "rag_message_list = [\n",
        "    {\"role\" : \"system\", \"content\" : rag_system_prompt_template},\n",
        "]\n",
        "\n",
        "rag_user_prompt_template = \"\"\"\\\n",
        "Question:\n",
        "{question}\n",
        "Context:\n",
        "{context}\n",
        "\"\"\"\n",
        "\n",
        "chat_prompt = ChatPromptTemplate.from_messages([\n",
        "    (\"system\", rag_system_prompt_template),\n",
        "    (\"human\", rag_user_prompt_template)\n",
        "])"
      ]
    },
    {
      "cell_type": "markdown",
      "metadata": {
        "id": "UQKnByVWMpiK"
      },
      "source": [
        "### Generation\n",
        "\n",
        "Like usual, we'll set-up a `ChatOpenAI` model - and we'll use the fan favourite `gpt-4o-mini` for today.\n",
        "\n",
        "However, we'll also implement...a PROMPT CACHE!\n",
        "\n",
        "In essence, this works in a very similar way to the embedding cache - if we've seen this prompt before, we just use the stored response."
      ]
    },
    {
      "cell_type": "code",
      "execution_count": null,
      "metadata": {
        "id": "fOXKkaY7ABab"
      },
      "outputs": [],
      "source": [
        "from langchain_core.globals import set_llm_cache\n",
        "from langchain_openai import ChatOpenAI\n",
        "\n",
        "chat_model = ChatOpenAI(model=\"gpt-4o-mini\")"
      ]
    },
    {
      "cell_type": "markdown",
      "metadata": {
        "id": "mhv8IqZoM9cY"
      },
      "source": [
        "Setting up the cache can be done as follows:"
      ]
    },
    {
      "cell_type": "code",
      "execution_count": null,
      "metadata": {
        "id": "thqam26gAyzN"
      },
      "outputs": [],
      "source": [
        "from langchain_core.caches import InMemoryCache\n",
        "\n",
        "set_llm_cache(InMemoryCache())"
      ]
    },
    {
      "cell_type": "markdown",
      "metadata": {
        "id": "CvxEovcEM_oA"
      },
      "source": [
        "##### ❓ Question #2:\n",
        "\n",
        "What are some limitations you can see with this approach? When is this most/least useful. Discuss with your group!\n",
        "\n",
        "> NOTE: There is no single correct answer here!\n",
        "\n",
        "##### ❓ ANSWER #2:\n",
        "> Added complexity to make sure the output data is not outdated\n",
        "\n",
        "> Not very useful if the prompt is based on too much variables or is too dynamic"
      ]
    },
    {
      "cell_type": "markdown",
      "metadata": {
        "id": "3iCMjVYKNEeV"
      },
      "source": [
        "##### 🏗️ Activity #2:\n",
        "\n",
        "Create a simple experiment that tests the cache-backed embeddings."
      ]
    },
    {
      "cell_type": "code",
      "execution_count": null,
      "metadata": {
        "colab": {
          "base_uri": "https://localhost:8080/"
        },
        "id": "QT5GfmsHNFqP",
        "outputId": "20a2753d-2035-4c77-b3df-b9f4f368e6ef"
      },
      "outputs": [
        {
          "name": "stdout",
          "output_type": "stream",
          "text": [
            "First call (cache miss) took 0.8026s: Caching is the process of storing data temporarily to enable faster access and retrieval in the future.\n",
            "\n",
            "Second call (cache hit) took 0.0014s: Caching is the process of storing data temporarily to enable faster access and retrieval in the future.\n",
            "\n"
          ]
        }
      ],
      "source": [
        "## Function to measure execution time\n",
        "def measure_prompt_time(question, context):\n",
        "    prompt = chat_prompt.format_prompt(question=question, context=context)\n",
        "    start = time.time()\n",
        "    response = chat_model.invoke(prompt)\n",
        "    elapsed = time.time() - start\n",
        "    return response.content, elapsed\n",
        "\n",
        "# Test prompts\n",
        "question = \"What is caching?\"\n",
        "context = \"Caching refers to storing data temporarily for faster future retrieval.\"\n",
        "\n",
        "# First call (expected cache miss)\n",
        "response_1, time_1 = measure_prompt_time(question, context)\n",
        "print(f\"First call (cache miss) took {time_1:.4f}s: {response_1}\\n\")\n",
        "\n",
        "# Second call with identical prompt (expected cache hit)\n",
        "response_2, time_2 = measure_prompt_time(question, context)\n",
        "print(f\"Second call (cache hit) took {time_2:.4f}s: {response_2}\\n\")\n"
      ]
    },
    {
      "cell_type": "markdown",
      "metadata": {
        "id": "zyPnNWb9NH7W"
      },
      "source": [
        "## Task 3: RAG LCEL Chain\n",
        "\n",
        "We'll also set-up our typical RAG chain using LCEL.\n",
        "\n",
        "However, this time: We'll specifically call out that the `context` and `question` halves of the first \"link\" in the chain are executed *in parallel* by default!\n",
        "\n",
        "Thanks, LCEL!"
      ]
    },
    {
      "cell_type": "code",
      "execution_count": null,
      "metadata": {
        "id": "3JNvSsx_CEtI"
      },
      "outputs": [],
      "source": [
        "from operator import itemgetter\n",
        "from langchain_core.runnables.passthrough import RunnablePassthrough\n",
        "\n",
        "retrieval_augmented_qa_chain = (\n",
        "        {\"context\": itemgetter(\"question\") | retriever, \"question\": itemgetter(\"question\")}\n",
        "        | RunnablePassthrough.assign(context=itemgetter(\"context\"))\n",
        "        | chat_prompt | chat_model\n",
        "    )"
      ]
    },
    {
      "cell_type": "markdown",
      "metadata": {
        "id": "Sx--wVctNdGa"
      },
      "source": [
        "Let's test it out!"
      ]
    },
    {
      "cell_type": "code",
      "execution_count": null,
      "metadata": {
        "colab": {
          "base_uri": "https://localhost:8080/"
        },
        "id": "43uQegbnDQKP",
        "outputId": "e35198ec-46a0-40c0-9c7e-6e343bdb79ce"
      },
      "outputs": [
        {
          "data": {
            "text/plain": [
              "AIMessage(content='1. The document is a PDF titled \"financial_planner.pdf.\"\\n2. It was authored by Berenger Koffi TOSSOU.\\n3. The document consists of 3 pages.\\n4. It was created using Microsoft® Word for Microsoft 365.\\n5. The PDF format is version 1.7.\\n6. The document includes a professional summary of a financial planner.\\n7. The financial planner is identified as John Doe.\\n8. John Doe is based in New York, NY.\\n9. His contact number is (123) 456-7890.\\n10. His email address is john.doe@email.com.\\n11. The planner has over 7 years of experience in financial advisory.\\n12. He specializes in investment strategies and wealth management.\\n13. The planner is a Certified Financial Planner (CFP).\\n14. He is skilled in assessing financial situations.\\n15. He creates tailored financial plans for clients.\\n16. His goal is to guide clients toward long-term financial stability.\\n17. He has strong knowledge of retirement planning.\\n18. The planner is experienced in tax optimization.\\n19. He is adept in risk management.\\n20. Portfolio diversification is one of his specialties.\\n21. He is passionate about helping clients achieve financial independence.\\n22. The document lists multiple skills of the planner.\\n23. Skills include financial planning and wealth management.\\n24. Investment strategy and portfolio management are highlighted.\\n25. Retirement and tax planning are also key skills.\\n26. Risk assessment and insurance advisory are included.\\n27. Estate planning and asset allocation are mentioned.\\n28. Budgeting and debt management are part of his expertise.\\n29. Client relationship management is emphasized as a skill.\\n30. Financial regulatory compliance is noted among his capabilities.\\n31. The planner\\'s current role is Senior Financial Planner.\\n32. He works at Wealth Advisory Group in New York, NY.\\n33. He has held this position since January 2018.\\n34. The document indicates he holds Series 7 & 66 licenses from FINRA.\\n35. He is proficient in financial planning software.\\n36. Software mentioned includes eMoney, MoneyGuidePro, and Morningstar.\\n37. The planner regularly speaks at financial literacy seminars.\\n38. He conducts investment workshops.\\n39. He has published articles on financial topics.\\n40. Topics of his articles include tax-saving strategies.\\n41. Retirement planning is another topic he writes about.\\n42. Portfolio management is also a focus of his publications.\\n43. He has developed customized financial plans for over 200 clients.\\n44. His financial plans have increased clients\\' asset growth by an average of 20%.\\n45. He provides investment advice tailored to financial goals.\\n46. He assists clients with retirement planning.\\n47. Tax optimization is a service he offers clients.\\n48. Estate management is part of his financial advisory services.\\n49. The document includes detailed information about the planner\\'s background.\\n50. It serves as a professional resume or profile for Berenger Koffi TOSSOU.', additional_kwargs={'refusal': None}, response_metadata={'token_usage': {'completion_tokens': 603, 'prompt_tokens': 1017, 'total_tokens': 1620, 'completion_tokens_details': {'accepted_prediction_tokens': 0, 'audio_tokens': 0, 'reasoning_tokens': 0, 'rejected_prediction_tokens': 0}, 'prompt_tokens_details': {'audio_tokens': 0, 'cached_tokens': 0}}, 'model_name': 'gpt-4o-mini-2024-07-18', 'system_fingerprint': 'fp_06737a9306', 'finish_reason': 'stop', 'logprobs': None}, id='run-1a052774-4ff7-4c55-8f1a-b728c7ce3bf7-0', usage_metadata={'input_tokens': 1017, 'output_tokens': 603, 'total_tokens': 1620})"
            ]
          },
          "execution_count": 24,
          "metadata": {},
          "output_type": "execute_result"
        }
      ],
      "source": [
        "retrieval_augmented_qa_chain.invoke({\"question\" : \"Write 50 things about this document!\"})"
      ]
    },
    {
      "cell_type": "markdown",
      "metadata": {
        "id": "0tYAvHrJNecy"
      },
      "source": [
        "##### 🏗️ Activity #3:\n",
        "\n",
        "Show, through LangSmith, the different between a trace that is leveraging cache-backed embeddings and LLM calls - and one that isn't.\n",
        "\n",
        "Post screenshots in the notebook!"
      ]
    },
    {
      "cell_type": "markdown",
      "metadata": {
        "id": "uBWbFDDa_-Hz"
      },
      "source": [
        "![Capture d’écran 2025-03-13 111504.png](data:image/png;base64,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)"
      ]
    },
    {
      "cell_type": "code",
      "execution_count": null,
      "metadata": {
        "id": "AHRwCAE2_7Xr"
      },
      "outputs": [],
      "source": []
    }
  ],
  "metadata": {
    "accelerator": "GPU",
    "colab": {
      "gpuType": "T4",
      "machine_shape": "hm",
      "provenance": []
    },
    "kernelspec": {
      "display_name": "Python 3",
      "name": "python3"
    },
    "language_info": {
      "name": "python"
    }
  },
  "nbformat": 4,
  "nbformat_minor": 0
}
