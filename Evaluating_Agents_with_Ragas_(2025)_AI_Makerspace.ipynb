{
  "cells": [
    {
      "cell_type": "markdown",
      "metadata": {
        "id": "t1ub1OLYZQvz"
      },
      "source": [
        "# Using Ragas to Evaluate an Agent Application built with LangChain and LangGraph\n",
        "\n",
        "In the following notebook, we'll be looking at how [Ragas](https://github.com/explodinggradients/ragas) can be helpful in a number of ways when looking to evaluate your RAG applications!\n",
        "\n",
        "While this example is rooted in LangChain/LangGraph - Ragas is framework agnostic (you don't even need to be using a framework!).\n",
        "\n",
        "We'll:\n",
        "\n",
        "- Collect our data\n",
        "- Create a simple Agent application\n",
        "- Evaluate our Agent application\n",
        "\n",
        "> NOTE: This notebook is very lightly modified from Ragas' [LangGraph tutorial](https://docs.ragas.io/en/stable/howtos/integrations/_langgraph_agent_evaluation/)!"
      ]
    },
    {
      "cell_type": "markdown",
      "metadata": {
        "id": "Q8Ms4ngAZQv1"
      },
      "source": [
        "## Installing Ragas and Other Dependencies\n",
        "Install Ragas and Langgraph with pip:\n",
        "\n",
        "> NOTE: Skip this step if you are running the notebook locally."
      ]
    },
    {
      "cell_type": "code",
      "execution_count": 7,
      "metadata": {
        "collapsed": true,
        "id": "vQk4aWbpZQv1",
        "outputId": "28146424-3eed-4375-f49a-d2c5aaee31b5",
        "colab": {
          "base_uri": "https://localhost:8080/"
        }
      },
      "outputs": [
        {
          "output_type": "stream",
          "name": "stdout",
          "text": [
            "\u001b[?25l   \u001b[90m━━━━━━━━━━━━━━━━━━━━━━━━━━━━━━━━━━━━━━━━\u001b[0m \u001b[32m0.0/118.5 kB\u001b[0m \u001b[31m?\u001b[0m eta \u001b[36m-:--:--\u001b[0m\r\u001b[2K   \u001b[90m━━━━━━━━━━━━━━━━━━━━━━━━━━━━━━━━━━━━━━━━\u001b[0m \u001b[32m118.5/118.5 kB\u001b[0m \u001b[31m7.9 MB/s\u001b[0m eta \u001b[36m0:00:00\u001b[0m\n",
            "\u001b[?25h\u001b[?25l   \u001b[90m━━━━━━━━━━━━━━━━━━━━━━━━━━━━━━━━━━━━━━━━\u001b[0m \u001b[32m0.0/177.1 kB\u001b[0m \u001b[31m?\u001b[0m eta \u001b[36m-:--:--\u001b[0m\r\u001b[2K   \u001b[90m━━━━━━━━━━━━━━━━━━━━━━━━━━━━━━━━━━━━━━━━\u001b[0m \u001b[32m177.1/177.1 kB\u001b[0m \u001b[31m11.0 MB/s\u001b[0m eta \u001b[36m0:00:00\u001b[0m\n",
            "\u001b[2K   \u001b[90m━━━━━━━━━━━━━━━━━━━━━━━━━━━━━━━━━━━━━━━━\u001b[0m \u001b[32m45.5/45.5 kB\u001b[0m \u001b[31m2.8 MB/s\u001b[0m eta \u001b[36m0:00:00\u001b[0m\n",
            "\u001b[2K   \u001b[90m━━━━━━━━━━━━━━━━━━━━━━━━━━━━━━━━━━━━━━━━\u001b[0m \u001b[32m44.7/44.7 kB\u001b[0m \u001b[31m2.5 MB/s\u001b[0m eta \u001b[36m0:00:00\u001b[0m\n",
            "\u001b[2K   \u001b[90m━━━━━━━━━━━━━━━━━━━━━━━━━━━━━━━━━━━━━━━━\u001b[0m \u001b[32m480.6/480.6 kB\u001b[0m \u001b[31m14.3 MB/s\u001b[0m eta \u001b[36m0:00:00\u001b[0m\n",
            "\u001b[2K   \u001b[90m━━━━━━━━━━━━━━━━━━━━━━━━━━━━━━━━━━━━━━━━\u001b[0m \u001b[32m2.5/2.5 MB\u001b[0m \u001b[31m59.4 MB/s\u001b[0m eta \u001b[36m0:00:00\u001b[0m\n",
            "\u001b[2K   \u001b[90m━━━━━━━━━━━━━━━━━━━━━━━━━━━━━━━━━━━━━━━━\u001b[0m \u001b[32m1.0/1.0 MB\u001b[0m \u001b[31m46.4 MB/s\u001b[0m eta \u001b[36m0:00:00\u001b[0m\n",
            "\u001b[2K   \u001b[90m━━━━━━━━━━━━━━━━━━━━━━━━━━━━━━━━━━━━━━━━\u001b[0m \u001b[32m413.2/413.2 kB\u001b[0m \u001b[31m25.1 MB/s\u001b[0m eta \u001b[36m0:00:00\u001b[0m\n",
            "\u001b[2K   \u001b[90m━━━━━━━━━━━━━━━━━━━━━━━━━━━━━━━━━━━━━━━━\u001b[0m \u001b[32m55.0/55.0 kB\u001b[0m \u001b[31m2.9 MB/s\u001b[0m eta \u001b[36m0:00:00\u001b[0m\n",
            "\u001b[2K   \u001b[90m━━━━━━━━━━━━━━━━━━━━━━━━━━━━━━━━━━━━━━━━\u001b[0m \u001b[32m1.2/1.2 MB\u001b[0m \u001b[31m28.1 MB/s\u001b[0m eta \u001b[36m0:00:00\u001b[0m\n",
            "\u001b[2K   \u001b[90m━━━━━━━━━━━━━━━━━━━━━━━━━━━━━━━━━━━━━━━━\u001b[0m \u001b[32m116.3/116.3 kB\u001b[0m \u001b[31m5.7 MB/s\u001b[0m eta \u001b[36m0:00:00\u001b[0m\n",
            "\u001b[2K   \u001b[90m━━━━━━━━━━━━━━━━━━━━━━━━━━━━━━━━━━━━━━━━\u001b[0m \u001b[32m179.3/179.3 kB\u001b[0m \u001b[31m9.2 MB/s\u001b[0m eta \u001b[36m0:00:00\u001b[0m\n",
            "\u001b[2K   \u001b[90m━━━━━━━━━━━━━━━━━━━━━━━━━━━━━━━━━━━━━━━━\u001b[0m \u001b[32m143.5/143.5 kB\u001b[0m \u001b[31m5.6 MB/s\u001b[0m eta \u001b[36m0:00:00\u001b[0m\n",
            "\u001b[2K   \u001b[90m━━━━━━━━━━━━━━━━━━━━━━━━━━━━━━━━━━━━━━━━\u001b[0m \u001b[32m194.8/194.8 kB\u001b[0m \u001b[31m8.1 MB/s\u001b[0m eta \u001b[36m0:00:00\u001b[0m\n",
            "\u001b[2K   \u001b[90m━━━━━━━━━━━━━━━━━━━━━━━━━━━━━━━━━━━━━━━━\u001b[0m \u001b[32m50.9/50.9 kB\u001b[0m \u001b[31m2.4 MB/s\u001b[0m eta \u001b[36m0:00:00\u001b[0m\n",
            "\u001b[?25h\u001b[31mERROR: pip's dependency resolver does not currently take into account all the packages that are installed. This behaviour is the source of the following dependency conflicts.\n",
            "torch 2.5.1+cu124 requires nvidia-cublas-cu12==12.4.5.8; platform_system == \"Linux\" and platform_machine == \"x86_64\", but you have nvidia-cublas-cu12 12.5.3.2 which is incompatible.\n",
            "torch 2.5.1+cu124 requires nvidia-cuda-cupti-cu12==12.4.127; platform_system == \"Linux\" and platform_machine == \"x86_64\", but you have nvidia-cuda-cupti-cu12 12.5.82 which is incompatible.\n",
            "torch 2.5.1+cu124 requires nvidia-cuda-nvrtc-cu12==12.4.127; platform_system == \"Linux\" and platform_machine == \"x86_64\", but you have nvidia-cuda-nvrtc-cu12 12.5.82 which is incompatible.\n",
            "torch 2.5.1+cu124 requires nvidia-cuda-runtime-cu12==12.4.127; platform_system == \"Linux\" and platform_machine == \"x86_64\", but you have nvidia-cuda-runtime-cu12 12.5.82 which is incompatible.\n",
            "torch 2.5.1+cu124 requires nvidia-cudnn-cu12==9.1.0.70; platform_system == \"Linux\" and platform_machine == \"x86_64\", but you have nvidia-cudnn-cu12 9.3.0.75 which is incompatible.\n",
            "torch 2.5.1+cu124 requires nvidia-cufft-cu12==11.2.1.3; platform_system == \"Linux\" and platform_machine == \"x86_64\", but you have nvidia-cufft-cu12 11.2.3.61 which is incompatible.\n",
            "torch 2.5.1+cu124 requires nvidia-curand-cu12==10.3.5.147; platform_system == \"Linux\" and platform_machine == \"x86_64\", but you have nvidia-curand-cu12 10.3.6.82 which is incompatible.\n",
            "torch 2.5.1+cu124 requires nvidia-cusolver-cu12==11.6.1.9; platform_system == \"Linux\" and platform_machine == \"x86_64\", but you have nvidia-cusolver-cu12 11.6.3.83 which is incompatible.\n",
            "torch 2.5.1+cu124 requires nvidia-cusparse-cu12==12.3.1.170; platform_system == \"Linux\" and platform_machine == \"x86_64\", but you have nvidia-cusparse-cu12 12.5.1.3 which is incompatible.\n",
            "torch 2.5.1+cu124 requires nvidia-nvjitlink-cu12==12.4.127; platform_system == \"Linux\" and platform_machine == \"x86_64\", but you have nvidia-nvjitlink-cu12 12.5.82 which is incompatible.\n",
            "gcsfs 2024.10.0 requires fsspec==2024.10.0, but you have fsspec 2024.9.0 which is incompatible.\u001b[0m\u001b[31m\n",
            "\u001b[0m"
          ]
        }
      ],
      "source": [
        "!pip install -qU langgraph==0.2.44 ragas==0.2.12 nltk"
      ]
    },
    {
      "cell_type": "code",
      "source": [
        "!pip install -qU langchain-openai"
      ],
      "metadata": {
        "id": "yS2FQkPKd0Qn"
      },
      "execution_count": 8,
      "outputs": []
    },
    {
      "cell_type": "markdown",
      "metadata": {
        "id": "K7iNPhN9_opo"
      },
      "source": [
        "### metals.dev API Key\n",
        "\n",
        "Sign up for an account on [metals.dev](https://metals.dev/) to get your API key."
      ]
    },
    {
      "cell_type": "code",
      "execution_count": 3,
      "metadata": {
        "id": "lB5bVnoV7rz-",
        "outputId": "8b01217c-d207-436a-ec27-35a9026cb838",
        "colab": {
          "base_uri": "https://localhost:8080/"
        }
      },
      "outputs": [
        {
          "name": "stdout",
          "output_type": "stream",
          "text": [
            "Enter your API key: ··········\n"
          ]
        }
      ],
      "source": [
        "import os\n",
        "import getpass\n",
        "\n",
        "os.environ[\"METAL_API_KEY\"] = getpass.getpass(\"Enter your API key: \")"
      ]
    },
    {
      "cell_type": "markdown",
      "metadata": {
        "id": "wOK8wAl8_zsq"
      },
      "source": [
        "### OpenAI API Key"
      ]
    },
    {
      "cell_type": "code",
      "execution_count": 4,
      "metadata": {
        "id": "nGYb7M0x7y2g",
        "outputId": "05fda64c-9cca-4ddd-937b-ad63d9a45c5b",
        "colab": {
          "base_uri": "https://localhost:8080/"
        }
      },
      "outputs": [
        {
          "name": "stdout",
          "output_type": "stream",
          "text": [
            "Enter your OpenAI API key: ··········\n"
          ]
        }
      ],
      "source": [
        "os.environ[\"OPENAI_API_KEY\"] = getpass.getpass(\"Enter your OpenAI API key: \")"
      ]
    },
    {
      "cell_type": "markdown",
      "metadata": {
        "id": "eJJ-WKWMZQv2"
      },
      "source": [
        "## Building the ReAct Agent"
      ]
    },
    {
      "cell_type": "markdown",
      "metadata": {
        "id": "2SduQYJbZQv3"
      },
      "source": [
        "### Define the get_metal_price Tool\n",
        "\n",
        "The get_metal_price tool will be used by the agent to fetch the price of a specified metal. We'll create this tool using the @tool decorator from LangChain."
      ]
    },
    {
      "cell_type": "code",
      "execution_count": 5,
      "metadata": {
        "id": "1X2TsFLfZQv3"
      },
      "outputs": [],
      "source": [
        "from langchain_core.tools import tool\n",
        "import requests\n",
        "from requests.structures import CaseInsensitiveDict\n",
        "import os\n",
        "\n",
        "\n",
        "# Define the tools for the agent to use\n",
        "@tool\n",
        "def get_metal_price(metal_name: str) -> float:\n",
        "    \"\"\"Fetches the current per gram price of the specified metal.\n",
        "\n",
        "    Args:\n",
        "        metal_name : The name of the metal (e.g., 'gold', 'silver', 'platinum').\n",
        "\n",
        "    Returns:\n",
        "        float: The current price of the metal in dollars per gram.\n",
        "\n",
        "    Raises:\n",
        "        KeyError: If the specified metal is not found in the data source.\n",
        "    \"\"\"\n",
        "    try:\n",
        "        metal_name = metal_name.lower().strip()\n",
        "        url = f\"https://api.metals.dev/v1/latest?api_key={os.environ['METAL_API_KEY']}&currency=USD&unit=toz\"\n",
        "        headers = CaseInsensitiveDict()\n",
        "        headers[\"Accept\"] = \"application/json\"\n",
        "        resp = requests.get(url, headers=headers)\n",
        "        print(resp)\n",
        "        metal_price = resp.json()[\"metals\"]\n",
        "        if metal_name not in metal_price:\n",
        "            raise KeyError(\n",
        "                f\"Metal '{metal_name}' not found. Available metals: {', '.join(metal_price['metals'].keys())}\"\n",
        "            )\n",
        "        return metal_price[metal_name]\n",
        "    except Exception as e:\n",
        "        raise Exception(f\"Error fetching metal price: {str(e)}\")"
      ]
    },
    {
      "cell_type": "markdown",
      "metadata": {
        "id": "j85XikcLZQv4"
      },
      "source": [
        "### Binding the Tool to the LLM\n",
        "With the get_metal_price tool defined, the next step is to bind it to the ChatOpenAI model. This enables the agent to invoke the tool during its execution based on the user's requests allowing it to interact with external data and perform actions beyond its native capabilities."
      ]
    },
    {
      "cell_type": "code",
      "execution_count": 9,
      "metadata": {
        "id": "lsxVT0lUZQv4"
      },
      "outputs": [],
      "source": [
        "from langchain_openai import ChatOpenAI\n",
        "\n",
        "tools = [get_metal_price]\n",
        "llm = ChatOpenAI(model=\"gpt-4o-mini\")\n",
        "llm_with_tools = llm.bind_tools(tools)"
      ]
    },
    {
      "cell_type": "markdown",
      "metadata": {
        "id": "yuDuSrmQZQv4"
      },
      "source": [
        "In LangGraph, state plays a crucial role in tracking and updating information as the graph executes. As different parts of the graph run, the state evolves to reflect the changes and contains information that is passed between nodes.\n",
        "\n",
        "For example, in a conversational system like this one, the state is used to track the exchanged messages. Each time a new message is generated, it is added to the state and the updated state is passed through the nodes, ensuring the conversation progresses logically.\n",
        "\n",
        "### Defining the State\n",
        "To implement this in LangGraph, we define a state class that maintains a list of messages. Whenever a new message is produced it gets appended to this list, ensuring that the conversation history is continuously updated."
      ]
    },
    {
      "cell_type": "code",
      "execution_count": 10,
      "metadata": {
        "id": "JHHXxYT1ZQv4"
      },
      "outputs": [],
      "source": [
        "from langgraph.graph import END\n",
        "from langchain_core.messages import AnyMessage\n",
        "from langgraph.graph.message import add_messages\n",
        "from typing import Annotated\n",
        "from typing_extensions import TypedDict\n",
        "\n",
        "\n",
        "class GraphState(TypedDict):\n",
        "    messages: Annotated[list[AnyMessage], add_messages]"
      ]
    },
    {
      "cell_type": "markdown",
      "metadata": {
        "id": "1KGbjrAOZQv4"
      },
      "source": [
        "### Defining the should_continue Function\n",
        "The `should_continue` function determines whether the conversation should proceed with further tool interactions or end. Specifically, it checks if the last message contains any tool calls (e.g., a request for metal prices).\n",
        "\n",
        "- If the last message includes tool calls, indicating that the agent has invoked an external tool, the conversation continues and moves to the \"tools\" node.\n",
        "- If there are no tool calls, the conversation ends, represented by the END state."
      ]
    },
    {
      "cell_type": "code",
      "execution_count": 11,
      "metadata": {
        "id": "KjppKPRDZQv4"
      },
      "outputs": [],
      "source": [
        "# Define the function that determines whether to continue or not\n",
        "def should_continue(state: GraphState):\n",
        "    messages = state[\"messages\"]\n",
        "    last_message = messages[-1]\n",
        "    if last_message.tool_calls:\n",
        "        return \"tools\"\n",
        "    return END"
      ]
    },
    {
      "cell_type": "markdown",
      "metadata": {
        "id": "ZbyJRNRvZQv4"
      },
      "source": [
        "### Calling the Model\n",
        "The `call_model` function interacts with the Language Model (LLM) to generate a response based on the current state of the conversation. It takes the updated state as input, processes it and returns a model-generated response."
      ]
    },
    {
      "cell_type": "code",
      "execution_count": 12,
      "metadata": {
        "id": "ZYflc7eZZQv4"
      },
      "outputs": [],
      "source": [
        "# Define the function that calls the model\n",
        "def call_model(state: GraphState):\n",
        "    messages = state[\"messages\"]\n",
        "    response = llm_with_tools.invoke(messages)\n",
        "    return {\"messages\": [response]}"
      ]
    },
    {
      "cell_type": "markdown",
      "metadata": {
        "id": "VzxIHVa2ZQv4"
      },
      "source": [
        "### Creating the Assistant Node\n",
        "The `assistant` node is a key component responsible for processing the current state of the conversation and using the Language Model (LLM) to generate a relevant response. It evaluates the state, determines the appropriate course of action, and invokes the LLM to produce a response that aligns with the ongoing dialogue."
      ]
    },
    {
      "cell_type": "code",
      "execution_count": 13,
      "metadata": {
        "id": "_fPD6W2SZQv4"
      },
      "outputs": [],
      "source": [
        "# Node\n",
        "def assistant(state: GraphState):\n",
        "    response = llm_with_tools.invoke(state[\"messages\"])\n",
        "    return {\"messages\": [response]}"
      ]
    },
    {
      "cell_type": "markdown",
      "metadata": {
        "id": "Vc3No3agZQv5"
      },
      "source": [
        "### Creating the Tool Node\n",
        "The `tool_node` is responsible for managing interactions with external tools, such as fetching metal prices or performing other actions beyond the LLM's native capabilities. The tools themselves are defined earlier in the code, and the tool_node invokes these tools based on the current state and the needs of the conversation."
      ]
    },
    {
      "cell_type": "code",
      "execution_count": 14,
      "metadata": {
        "id": "vz2qlceBZQv5"
      },
      "outputs": [],
      "source": [
        "from langgraph.prebuilt import ToolNode\n",
        "\n",
        "# Node\n",
        "tools = [get_metal_price]\n",
        "tool_node = ToolNode(tools)"
      ]
    },
    {
      "cell_type": "markdown",
      "metadata": {
        "id": "M2FWZfGFZQv5"
      },
      "source": [
        "### Building the Graph\n",
        "The graph structure is the backbone of the agentic workflow, consisting of interconnected nodes and edges. To construct this graph, we use the StateGraph builder which allows us to define and connect various nodes. Each node represents a step in the process (e.g., the assistant node, tool node) and the edges dictate the flow of execution between these steps."
      ]
    },
    {
      "cell_type": "code",
      "execution_count": 15,
      "metadata": {
        "colab": {
          "base_uri": "https://localhost:8080/",
          "height": 266
        },
        "id": "FeGI8G3KZQv5",
        "outputId": "2c9d6618-6e99-470b-e750-220809f89852"
      },
      "outputs": [
        {
          "output_type": "display_data",
          "data": {
            "image/png": "[encoded data removed]",
            "text/plain": [
              "<IPython.core.display.Image object>"
            ]
          },
          "metadata": {}
        }
      ],
      "source": [
        "from langgraph.graph import START, StateGraph\n",
        "from IPython.display import Image, display\n",
        "\n",
        "# Define a new graph for the agent\n",
        "builder = StateGraph(GraphState)\n",
        "\n",
        "# Define the two nodes we will cycle between\n",
        "builder.add_node(\"assistant\", assistant)\n",
        "builder.add_node(\"tools\", tool_node)\n",
        "\n",
        "# Set the entrypoint as `agent`\n",
        "builder.add_edge(START, \"assistant\")\n",
        "\n",
        "# Making a conditional edge\n",
        "# should_continue will determine which node is called next.\n",
        "builder.add_conditional_edges(\"assistant\", should_continue, [\"tools\", END])\n",
        "\n",
        "# Making a normal edge from `tools` to `agent`.\n",
        "# The `agent` node will be called after the `tool`.\n",
        "builder.add_edge(\"tools\", \"assistant\")\n",
        "\n",
        "# Compile and display the graph for a visual overview\n",
        "react_graph = builder.compile()\n",
        "display(Image(react_graph.get_graph(xray=True).draw_mermaid_png()))"
      ]
    },
    {
      "cell_type": "markdown",
      "metadata": {
        "id": "wlNB4fI4ZQv5"
      },
      "source": [
        "To test our setup, we will run the agent with a query. The agent will fetch the price of copper using the metals.dev API."
      ]
    },
    {
      "cell_type": "code",
      "execution_count": 16,
      "metadata": {
        "colab": {
          "base_uri": "https://localhost:8080/"
        },
        "id": "rzt0I-n2ZQv5",
        "outputId": "7e6a70c2-d45f-4f77-e507-c314571f52f7"
      },
      "outputs": [
        {
          "output_type": "stream",
          "name": "stdout",
          "text": [
            "<Response [200]>\n"
          ]
        }
      ],
      "source": [
        "from langchain_core.messages import HumanMessage\n",
        "\n",
        "messages = [HumanMessage(content=\"What is the price of copper?\")]\n",
        "result = react_graph.invoke({\"messages\": messages})"
      ]
    },
    {
      "cell_type": "code",
      "execution_count": 17,
      "metadata": {
        "colab": {
          "base_uri": "https://localhost:8080/"
        },
        "id": "esoHsop8ZQv5",
        "outputId": "ff691998-6918-43d0-fb00-380147a7febf"
      },
      "outputs": [
        {
          "output_type": "execute_result",
          "data": {
            "text/plain": [
              "[HumanMessage(content='What is the price of copper?', additional_kwargs={}, response_metadata={}, id='774ed2c1-cec0-4ec3-97f1-85521f5ce8d9'),\n",
              " AIMessage(content='', additional_kwargs={'tool_calls': [{'id': 'call_u9of9h0MGPANuzAlM3IRpcno', 'function': {'arguments': '{\"metal_name\":\"copper\"}', 'name': 'get_metal_price'}, 'type': 'function'}], 'refusal': None}, response_metadata={'token_usage': {'completion_tokens': 19, 'prompt_tokens': 116, 'total_tokens': 135, 'completion_tokens_details': {'accepted_prediction_tokens': 0, 'audio_tokens': 0, 'reasoning_tokens': 0, 'rejected_prediction_tokens': 0}, 'prompt_tokens_details': {'audio_tokens': 0, 'cached_tokens': 0}}, 'model_name': 'gpt-4o-mini-2024-07-18', 'system_fingerprint': 'fp_bd83329f63', 'finish_reason': 'tool_calls', 'logprobs': None}, id='run-78bcfd0b-e602-4d91-998a-e8a774cb6ddb-0', tool_calls=[{'name': 'get_metal_price', 'args': {'metal_name': 'copper'}, 'id': 'call_u9of9h0MGPANuzAlM3IRpcno', 'type': 'tool_call'}], usage_metadata={'input_tokens': 116, 'output_tokens': 19, 'total_tokens': 135, 'input_token_details': {'audio': 0, 'cache_read': 0}, 'output_token_details': {'audio': 0, 'reasoning': 0}}),\n",
              " ToolMessage(content='0.3304', name='get_metal_price', id='7709731a-73f9-4067-bda7-f04bd4ea6fac', tool_call_id='call_u9of9h0MGPANuzAlM3IRpcno'),\n",
              " AIMessage(content='The current price of copper is $0.3304 per gram.', additional_kwargs={'refusal': None}, response_metadata={'token_usage': {'completion_tokens': 16, 'prompt_tokens': 148, 'total_tokens': 164, 'completion_tokens_details': {'accepted_prediction_tokens': 0, 'audio_tokens': 0, 'reasoning_tokens': 0, 'rejected_prediction_tokens': 0}, 'prompt_tokens_details': {'audio_tokens': 0, 'cached_tokens': 0}}, 'model_name': 'gpt-4o-mini-2024-07-18', 'system_fingerprint': 'fp_bd83329f63', 'finish_reason': 'stop', 'logprobs': None}, id='run-95543ee6-7e32-4a8b-a27f-d4dd72e0b582-0', usage_metadata={'input_tokens': 148, 'output_tokens': 16, 'total_tokens': 164, 'input_token_details': {'audio': 0, 'cache_read': 0}, 'output_token_details': {'audio': 0, 'reasoning': 0}})]"
            ]
          },
          "metadata": {},
          "execution_count": 17
        }
      ],
      "source": [
        "result[\"messages\"]"
      ]
    },
    {
      "cell_type": "markdown",
      "metadata": {
        "id": "wsK_VEDSZQv6"
      },
      "source": [
        "### Converting Messages to Ragas Evaluation Format\n",
        "\n",
        "In the current implementation, the GraphState stores messages exchanged between the human user, the AI (LLM's responses), and any external tools (APIs or services the AI uses) in a list. Each message is an object in LangChain's format\n",
        "\n",
        "```python\n",
        "# Implementation of Graph State\n",
        "class GraphState(TypedDict):\n",
        "    messages: Annotated[list[AnyMessage], add_messages]\n",
        "```\n",
        "\n",
        "Each time a message is exchanged during agent execution, it gets added to the messages list in the GraphState. However, Ragas requires a specific message format for evaluating interactions.\n",
        "\n",
        "Ragas uses its own format to evaluate agent interactions. So, if you're using LangGraph, you will need to convert the LangChain message objects into Ragas message objects. This allows you to evaluate your AI agents with Ragas’ built-in evaluation tools.\n",
        "\n",
        "**Goal:**  Convert the list of LangChain messages (e.g., HumanMessage, AIMessage, and ToolMessage) into the format expected by Ragas, so the evaluation framework can understand and process them properly."
      ]
    },
    {
      "cell_type": "markdown",
      "metadata": {
        "id": "edpIDCgi6hkx"
      },
      "source": [
        "To convert a list of LangChain messages into a format suitable for Ragas evaluation, Ragas provides the function [convert_to_ragas_messages][ragas.integrations.langgraph.convert_to_ragas_messages], which can be used to transform LangChain messages into the format expected by Ragas.\n",
        "\n",
        "Here's how you can use the function:"
      ]
    },
    {
      "cell_type": "code",
      "execution_count": 18,
      "metadata": {
        "id": "oGX9bx286hkx"
      },
      "outputs": [],
      "source": [
        "from ragas.integrations.langgraph import convert_to_ragas_messages\n",
        "\n",
        "# Assuming 'result[\"messages\"]' contains the list of LangChain messages\n",
        "ragas_trace = convert_to_ragas_messages(result[\"messages\"])"
      ]
    },
    {
      "cell_type": "code",
      "execution_count": 19,
      "metadata": {
        "colab": {
          "base_uri": "https://localhost:8080/"
        },
        "id": "Udcg7kCH6hkx",
        "outputId": "f66c86f7-2e95-4fb5-9d8b-72e6daa7a644"
      },
      "outputs": [
        {
          "output_type": "execute_result",
          "data": {
            "text/plain": [
              "[HumanMessage(content='What is the price of copper?', metadata=None, type='human'),\n",
              " AIMessage(content='', metadata=None, type='ai', tool_calls=[ToolCall(name='get_metal_price', args={'metal_name': 'copper'})]),\n",
              " ToolMessage(content='0.3304', metadata=None, type='tool'),\n",
              " AIMessage(content='The current price of copper is $0.3304 per gram.', metadata=None, type='ai', tool_calls=[])]"
            ]
          },
          "metadata": {},
          "execution_count": 19
        }
      ],
      "source": [
        "ragas_trace  # List of Ragas messages"
      ]
    },
    {
      "cell_type": "markdown",
      "metadata": {
        "id": "3Jw5bnefPLlv"
      },
      "source": [
        "#### ❓ Question:\n",
        "\n",
        "Describe in your own words what a \"trace\" is."
      ]
    },
    {
      "cell_type": "markdown",
      "source": [
        "#### Answer\n",
        "The trace is like a log of events. Here we have the log of messages transformed in ragas format."
      ],
      "metadata": {
        "id": "EHwXzPqNrXnM"
      }
    },
    {
      "cell_type": "markdown",
      "metadata": {
        "id": "n5mbTp5aZQv6"
      },
      "source": [
        "## Evaluating the Agent's Performance"
      ]
    },
    {
      "cell_type": "markdown",
      "metadata": {
        "id": "H885v5sxZQv6"
      },
      "source": [
        "For this tutorial, let us evaluate the Agent with the following metrics:\n",
        "\n",
        "- [Tool call Accuracy](https://docs.ragas.io/en/stable/concepts/metrics/available_metrics/agents/#tool-call-accuracy):ToolCallAccuracy is a metric that can be used to evaluate the performance of the LLM in identifying and calling the required tools to complete a given task.  \n",
        "\n",
        "- [Agent Goal accuracy](https://docs.ragas.io/en/stable/concepts/metrics/available_metrics/agents/#agent-goal-accuracy): Agent goal accuracy is a metric that can be used to evaluate the performance of the LLM in identifying and achieving the goals of the user. This is a binary metric, with 1 indicating that the AI has achieved the goal and 0 indicating that the AI has not achieved the goal.\n",
        "- [Topic Adherence](https://docs.ragas.io/en/stable/concepts/metrics/available_metrics/agents/): Topic adherence is a metric that can be used to ensure the Agent system is staying \"on-topic\", meaning that it's not straying from the intended use case. You can think of this as a kinda of faithfulness, where the responses of the LLM should stay faithful to the topic provided.\n",
        "\n",
        "\n",
        "First, let us actually run our Agent with a couple of queries, and make sure we have the ground truth labels for these queries."
      ]
    },
    {
      "cell_type": "markdown",
      "metadata": {
        "id": "nFPhEz-zPLlv"
      },
      "source": [
        "#### ❓ Question:\n",
        "\n",
        "Describe *how* each of the above metrics are calculated. This will require you to read the documentation for each metric."
      ]
    },
    {
      "cell_type": "markdown",
      "source": [
        "#### Answer\n",
        "- Tool call Accuracy : The metric is computed by comparing the reference_tool_calls with the Tool calls made by the AI.If the tool calls made by the AI does not match the order or sequence of the reference_tool_calls, the metric will return a score of 0.\n",
        "\n",
        "- Agent Goal accuracy : The metric is computed by comparing the reference with the goal achieved by the end of workflow.\n",
        "    With reference : Calculating   AgentGoalAccuracyWithReference with reference needs user_input and reference to evaluate the performance of the LLM in identifying and achieving the goals of the user. The annotated reference will be used as ideal outcome. The metric is computed by comparing the reference with the goal achieved by the end of workflow.\n",
        "\n",
        "    Without reference : works in without reference mode, the metric will evaluate the performance of the LLM in identifying and achieving the goals of the user without any reference. Here the desired outcome is inferred from the human interactions in the workflow.\n",
        "\n",
        "- Topic Adherence : requires a predefined set of topics that the AI system is expected to adhere to which is provided using reference_topics along with user_input. The metric can compute precision, recall, and F1 score for topic adherence\n",
        "Here is the formula![toic_calc.png](data:image/png;base64,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)\n"
      ],
      "metadata": {
        "id": "dBCNnB30tqvQ"
      }
    },
    {
      "cell_type": "markdown",
      "metadata": {
        "id": "7kRRIyTAZQv6"
      },
      "source": [
        "### Tool Call Accuracy"
      ]
    },
    {
      "cell_type": "code",
      "execution_count": 20,
      "metadata": {
        "colab": {
          "base_uri": "https://localhost:8080/"
        },
        "id": "CC973Yq1ZQv6",
        "outputId": "79a2d670-3ff8-46ff-b62a-f654ed72f610"
      },
      "outputs": [
        {
          "output_type": "execute_result",
          "data": {
            "text/plain": [
              "1.0"
            ]
          },
          "metadata": {},
          "execution_count": 20
        }
      ],
      "source": [
        "from ragas.metrics import ToolCallAccuracy\n",
        "from ragas.dataset_schema import MultiTurnSample\n",
        "from ragas.integrations.langgraph import convert_to_ragas_messages\n",
        "import ragas.messages as r\n",
        "\n",
        "\n",
        "ragas_trace = convert_to_ragas_messages(\n",
        "    messages=result[\"messages\"]\n",
        ")  # List of Ragas messages converted using the Ragas function\n",
        "\n",
        "sample = MultiTurnSample(\n",
        "    user_input=ragas_trace,\n",
        "    reference_tool_calls=[\n",
        "        r.ToolCall(name=\"get_metal_price\", args={\"metal_name\": \"copper\"})\n",
        "    ],\n",
        ")\n",
        "\n",
        "tool_accuracy_scorer = ToolCallAccuracy()\n",
        "tool_accuracy_scorer.llm = ChatOpenAI(model=\"gpt-4o-mini\")\n",
        "await tool_accuracy_scorer.multi_turn_ascore(sample)"
      ]
    },
    {
      "cell_type": "markdown",
      "metadata": {
        "id": "S14jlVw06hkx"
      },
      "source": [
        "Tool Call Accuracy: 1, because the LLM correctly identified and used the necessary tool (get_metal_price) with the correct parameters (i.e., metal name as \"copper\")."
      ]
    },
    {
      "cell_type": "markdown",
      "metadata": {
        "id": "rGOL1CBsZQv6"
      },
      "source": [
        "### Agent Goal Accuracy"
      ]
    },
    {
      "cell_type": "code",
      "execution_count": 21,
      "metadata": {
        "colab": {
          "base_uri": "https://localhost:8080/"
        },
        "id": "FA0kMvTfZQwB",
        "outputId": "e12aa17e-0cad-4666-a8a1-2a91f83d5d8e"
      },
      "outputs": [
        {
          "output_type": "stream",
          "name": "stdout",
          "text": [
            "<Response [200]>\n"
          ]
        }
      ],
      "source": [
        "messages = [HumanMessage(content=\"What is the price of 10 grams of silver?\")]\n",
        "\n",
        "result = react_graph.invoke({\"messages\": messages})"
      ]
    },
    {
      "cell_type": "code",
      "execution_count": 22,
      "metadata": {
        "colab": {
          "base_uri": "https://localhost:8080/"
        },
        "id": "YJr4Hxn8ZQwB",
        "outputId": "f862696e-103f-450f-8511-0db388251f91"
      },
      "outputs": [
        {
          "output_type": "execute_result",
          "data": {
            "text/plain": [
              "[HumanMessage(content='What is the price of 10 grams of silver?', additional_kwargs={}, response_metadata={}, id='b30ca519-c12c-4f85-ac99-fd983195b2be'),\n",
              " AIMessage(content='', additional_kwargs={'tool_calls': [{'id': 'call_1XyaSEXWZmLnxCHNwfe6SZgC', 'function': {'arguments': '{\"metal_name\":\"silver\"}', 'name': 'get_metal_price'}, 'type': 'function'}], 'refusal': None}, response_metadata={'token_usage': {'completion_tokens': 18, 'prompt_tokens': 120, 'total_tokens': 138, 'completion_tokens_details': {'accepted_prediction_tokens': 0, 'audio_tokens': 0, 'reasoning_tokens': 0, 'rejected_prediction_tokens': 0}, 'prompt_tokens_details': {'audio_tokens': 0, 'cached_tokens': 0}}, 'model_name': 'gpt-4o-mini-2024-07-18', 'system_fingerprint': 'fp_bd83329f63', 'finish_reason': 'tool_calls', 'logprobs': None}, id='run-79999123-1777-4d68-8ae2-ae937315008e-0', tool_calls=[{'name': 'get_metal_price', 'args': {'metal_name': 'silver'}, 'id': 'call_1XyaSEXWZmLnxCHNwfe6SZgC', 'type': 'tool_call'}], usage_metadata={'input_tokens': 120, 'output_tokens': 18, 'total_tokens': 138, 'input_token_details': {'audio': 0, 'cache_read': 0}, 'output_token_details': {'audio': 0, 'reasoning': 0}}),\n",
              " ToolMessage(content='32.31775', name='get_metal_price', id='edebe10b-6155-4b18-9ab1-97c1fdc54d4e', tool_call_id='call_1XyaSEXWZmLnxCHNwfe6SZgC'),\n",
              " AIMessage(content='The current price of silver is approximately $32.32 per gram. Therefore, the price for 10 grams of silver would be about $323.17.', additional_kwargs={'refusal': None}, response_metadata={'token_usage': {'completion_tokens': 34, 'prompt_tokens': 151, 'total_tokens': 185, 'completion_tokens_details': {'accepted_prediction_tokens': 0, 'audio_tokens': 0, 'reasoning_tokens': 0, 'rejected_prediction_tokens': 0}, 'prompt_tokens_details': {'audio_tokens': 0, 'cached_tokens': 0}}, 'model_name': 'gpt-4o-mini-2024-07-18', 'system_fingerprint': 'fp_bd83329f63', 'finish_reason': 'stop', 'logprobs': None}, id='run-5e400e9a-0b3c-4974-9479-4081d81889a2-0', usage_metadata={'input_tokens': 151, 'output_tokens': 34, 'total_tokens': 185, 'input_token_details': {'audio': 0, 'cache_read': 0}, 'output_token_details': {'audio': 0, 'reasoning': 0}})]"
            ]
          },
          "metadata": {},
          "execution_count": 22
        }
      ],
      "source": [
        "result[\"messages\"]  # List of Langchain messages"
      ]
    },
    {
      "cell_type": "code",
      "execution_count": 23,
      "metadata": {
        "colab": {
          "base_uri": "https://localhost:8080/"
        },
        "id": "StDNqR2vZQwB",
        "outputId": "7027ee4c-dfd2-48f3-abc1-5122eba6ef7c"
      },
      "outputs": [
        {
          "output_type": "execute_result",
          "data": {
            "text/plain": [
              "[HumanMessage(content='What is the price of 10 grams of silver?', metadata=None, type='human'),\n",
              " AIMessage(content='', metadata=None, type='ai', tool_calls=[ToolCall(name='get_metal_price', args={'metal_name': 'silver'})]),\n",
              " ToolMessage(content='32.31775', metadata=None, type='tool'),\n",
              " AIMessage(content='The current price of silver is approximately $32.32 per gram. Therefore, the price for 10 grams of silver would be about $323.17.', metadata=None, type='ai', tool_calls=[])]"
            ]
          },
          "metadata": {},
          "execution_count": 23
        }
      ],
      "source": [
        "from ragas.integrations.langgraph import convert_to_ragas_messages\n",
        "\n",
        "ragas_trace = convert_to_ragas_messages(\n",
        "    result[\"messages\"]\n",
        ")  # List of Ragas messages converted using the Ragas function\n",
        "ragas_trace"
      ]
    },
    {
      "cell_type": "code",
      "execution_count": 24,
      "metadata": {
        "colab": {
          "base_uri": "https://localhost:8080/"
        },
        "id": "c6u9-RYdZQwB",
        "outputId": "ae907aa9-3dfb-4bdb-ea6d-cb8b5875444f"
      },
      "outputs": [
        {
          "output_type": "execute_result",
          "data": {
            "text/plain": [
              "1.0"
            ]
          },
          "metadata": {},
          "execution_count": 24
        }
      ],
      "source": [
        "from ragas.dataset_schema import MultiTurnSample\n",
        "from ragas.metrics import AgentGoalAccuracyWithReference\n",
        "from ragas.llms import LangchainLLMWrapper\n",
        "\n",
        "\n",
        "sample = MultiTurnSample(\n",
        "    user_input=ragas_trace,\n",
        "    reference=\"Price of 10 grams of silver\",\n",
        ")\n",
        "\n",
        "scorer = AgentGoalAccuracyWithReference()\n",
        "\n",
        "evaluator_llm = LangchainLLMWrapper(ChatOpenAI(model=\"gpt-4o-mini\"))\n",
        "scorer.llm = evaluator_llm\n",
        "await scorer.multi_turn_ascore(sample)"
      ]
    },
    {
      "cell_type": "markdown",
      "metadata": {
        "id": "K71VkA7o6hk0"
      },
      "source": [
        "Agent Goal Accuracy: 1, because the LLM correctly achieved the user’s goal of retrieving the price of 10 grams of silver."
      ]
    },
    {
      "cell_type": "markdown",
      "metadata": {
        "id": "N0fKvUqpDQVK"
      },
      "source": [
        "### Topic Adherence\n",
        "\n"
      ]
    },
    {
      "cell_type": "code",
      "execution_count": 25,
      "metadata": {
        "id": "4ouIaXBNDZgc"
      },
      "outputs": [],
      "source": [
        "messages = [HumanMessage(content=\"How fast can an eagle fly?\")]\n",
        "\n",
        "result = react_graph.invoke({\"messages\": messages})"
      ]
    },
    {
      "cell_type": "code",
      "execution_count": 26,
      "metadata": {
        "colab": {
          "base_uri": "https://localhost:8080/"
        },
        "id": "OBRGGNb4DyBa",
        "outputId": "109c716c-662a-4dbb-d71f-7727739aeab5"
      },
      "outputs": [
        {
          "output_type": "execute_result",
          "data": {
            "text/plain": [
              "[HumanMessage(content='How fast can an eagle fly?', additional_kwargs={}, response_metadata={}, id='4426f1cd-e03d-49a4-92e4-d14f2eaecac8'),\n",
              " AIMessage(content='Eagles are known for their impressive flying abilities. The speed of an eagle can vary depending on the species and the circumstances, but generally, they can fly at speeds ranging from 20 to 40 miles per hour (32 to 64 kilometers per hour) during level flight. However, when diving or stooping to catch prey, eagles can reach much higher speeds. The peregrine falcon, while not an eagle but a raptor, is famous for its diving speed, which can exceed 240 miles per hour (386 kilometers per hour).', additional_kwargs={'refusal': None}, response_metadata={'token_usage': {'completion_tokens': 113, 'prompt_tokens': 116, 'total_tokens': 229, 'completion_tokens_details': {'accepted_prediction_tokens': 0, 'audio_tokens': 0, 'reasoning_tokens': 0, 'rejected_prediction_tokens': 0}, 'prompt_tokens_details': {'audio_tokens': 0, 'cached_tokens': 0}}, 'model_name': 'gpt-4o-mini-2024-07-18', 'system_fingerprint': 'fp_bd83329f63', 'finish_reason': 'stop', 'logprobs': None}, id='run-81164b0a-baa0-4582-ac73-d3f70e3f7439-0', usage_metadata={'input_tokens': 116, 'output_tokens': 113, 'total_tokens': 229, 'input_token_details': {'audio': 0, 'cache_read': 0}, 'output_token_details': {'audio': 0, 'reasoning': 0}})]"
            ]
          },
          "metadata": {},
          "execution_count": 26
        }
      ],
      "source": [
        "result[\"messages\"]"
      ]
    },
    {
      "cell_type": "code",
      "execution_count": 27,
      "metadata": {
        "colab": {
          "base_uri": "https://localhost:8080/"
        },
        "id": "f3i7NIgjD8ec",
        "outputId": "de9a2e30-0be7-477b-eab4-9f2f5bf8e494"
      },
      "outputs": [
        {
          "output_type": "execute_result",
          "data": {
            "text/plain": [
              "[HumanMessage(content='How fast can an eagle fly?', metadata=None, type='human'),\n",
              " AIMessage(content='Eagles are known for their impressive flying abilities. The speed of an eagle can vary depending on the species and the circumstances, but generally, they can fly at speeds ranging from 20 to 40 miles per hour (32 to 64 kilometers per hour) during level flight. However, when diving or stooping to catch prey, eagles can reach much higher speeds. The peregrine falcon, while not an eagle but a raptor, is famous for its diving speed, which can exceed 240 miles per hour (386 kilometers per hour).', metadata=None, type='ai', tool_calls=[])]"
            ]
          },
          "metadata": {},
          "execution_count": 27
        }
      ],
      "source": [
        "from ragas.integrations.langgraph import convert_to_ragas_messages\n",
        "\n",
        "ragas_trace = convert_to_ragas_messages(\n",
        "    result[\"messages\"]\n",
        ")  # List of Ragas messages converted using the Ragas function\n",
        "ragas_trace"
      ]
    },
    {
      "cell_type": "code",
      "execution_count": 28,
      "metadata": {
        "colab": {
          "base_uri": "https://localhost:8080/"
        },
        "id": "iLTMVPaMDzal",
        "outputId": "da990510-af9a-45ac-9c87-531010546d6b"
      },
      "outputs": [
        {
          "output_type": "execute_result",
          "data": {
            "text/plain": [
              "0.0"
            ]
          },
          "metadata": {},
          "execution_count": 28
        }
      ],
      "source": [
        "from ragas.metrics import TopicAdherenceScore\n",
        "\n",
        "sample = MultiTurnSample(\n",
        "    user_input=ragas_trace,\n",
        "    reference_topics = [\"metals\"]\n",
        ")\n",
        "\n",
        "evaluator_llm = LangchainLLMWrapper(ChatOpenAI(model=\"gpt-4o-mini\"))\n",
        "scorer = TopicAdherenceScore(llm = evaluator_llm, mode=\"precision\")\n",
        "await scorer.multi_turn_ascore(sample)"
      ]
    },
    {
      "cell_type": "markdown",
      "metadata": {
        "id": "Ac2I2MZJEcK5"
      },
      "source": [
        "As we can see, the current implementation fails due to talking about birds, when it should be talking about metal!"
      ]
    }
  ],
  "metadata": {
    "colab": {
      "provenance": []
    },
    "kernelspec": {
      "display_name": ".venv",
      "language": "python",
      "name": "python3"
    },
    "language_info": {
      "codemirror_mode": {
        "name": "ipython",
        "version": 3
      },
      "file_extension": ".py",
      "mimetype": "text/x-python",
      "name": "python",
      "nbconvert_exporter": "python",
      "pygments_lexer": "ipython3",
      "version": "3.13.1"
    }
  },
  "nbformat": 4,
  "nbformat_minor": 0
}